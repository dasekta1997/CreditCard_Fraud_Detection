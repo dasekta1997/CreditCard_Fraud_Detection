{
  "cells": [
    {
      "cell_type": "code",
      "source": [
        "!pip install pandas numpy scikit-learn xgboost shap imbalanced-learn matplotlib seaborn joblib"
      ],
      "metadata": {
        "colab": {
          "base_uri": "https://localhost:8080/"
        },
        "id": "j-gWaJz0mCTZ",
        "outputId": "9b813efe-35d7-41ae-b40d-299a7aa3c23b"
      },
      "id": "j-gWaJz0mCTZ",
      "execution_count": 1,
      "outputs": [
        {
          "output_type": "stream",
          "name": "stdout",
          "text": [
            "Requirement already satisfied: pandas in /usr/local/lib/python3.11/dist-packages (2.3.1)\n",
            "Requirement already satisfied: numpy in /usr/local/lib/python3.11/dist-packages (1.26.4)\n",
            "Requirement already satisfied: scikit-learn in /usr/local/lib/python3.11/dist-packages (1.7.1)\n",
            "Requirement already satisfied: xgboost in /usr/local/lib/python3.11/dist-packages (3.0.4)\n",
            "Requirement already satisfied: shap in /usr/local/lib/python3.11/dist-packages (0.48.0)\n",
            "Requirement already satisfied: imbalanced-learn in /usr/local/lib/python3.11/dist-packages (0.11.0)\n",
            "Requirement already satisfied: matplotlib in /usr/local/lib/python3.11/dist-packages (3.10.5)\n",
            "Requirement already satisfied: seaborn in /usr/local/lib/python3.11/dist-packages (0.13.2)\n",
            "Requirement already satisfied: joblib in /usr/local/lib/python3.11/dist-packages (1.5.1)\n",
            "Requirement already satisfied: python-dateutil>=2.8.2 in /usr/local/lib/python3.11/dist-packages (from pandas) (2.9.0.post0)\n",
            "Requirement already satisfied: pytz>=2020.1 in /usr/local/lib/python3.11/dist-packages (from pandas) (2025.2)\n",
            "Requirement already satisfied: tzdata>=2022.7 in /usr/local/lib/python3.11/dist-packages (from pandas) (2025.2)\n",
            "Requirement already satisfied: scipy>=1.8.0 in /usr/local/lib/python3.11/dist-packages (from scikit-learn) (1.16.1)\n",
            "Requirement already satisfied: threadpoolctl>=3.1.0 in /usr/local/lib/python3.11/dist-packages (from scikit-learn) (3.6.0)\n",
            "Requirement already satisfied: nvidia-nccl-cu12 in /usr/local/lib/python3.11/dist-packages (from xgboost) (2.23.4)\n",
            "Requirement already satisfied: tqdm>=4.27.0 in /usr/local/lib/python3.11/dist-packages (from shap) (4.67.1)\n",
            "Requirement already satisfied: packaging>20.9 in /usr/local/lib/python3.11/dist-packages (from shap) (25.0)\n",
            "Requirement already satisfied: slicer==0.0.8 in /usr/local/lib/python3.11/dist-packages (from shap) (0.0.8)\n",
            "Requirement already satisfied: numba>=0.54 in /usr/local/lib/python3.11/dist-packages (from shap) (0.60.0)\n",
            "Requirement already satisfied: cloudpickle in /usr/local/lib/python3.11/dist-packages (from shap) (3.1.1)\n",
            "Requirement already satisfied: typing-extensions in /usr/local/lib/python3.11/dist-packages (from shap) (4.14.1)\n",
            "Requirement already satisfied: contourpy>=1.0.1 in /usr/local/lib/python3.11/dist-packages (from matplotlib) (1.3.3)\n",
            "Requirement already satisfied: cycler>=0.10 in /usr/local/lib/python3.11/dist-packages (from matplotlib) (0.12.1)\n",
            "Requirement already satisfied: fonttools>=4.22.0 in /usr/local/lib/python3.11/dist-packages (from matplotlib) (4.59.0)\n",
            "Requirement already satisfied: kiwisolver>=1.3.1 in /usr/local/lib/python3.11/dist-packages (from matplotlib) (1.4.9)\n",
            "Requirement already satisfied: pillow>=8 in /usr/local/lib/python3.11/dist-packages (from matplotlib) (11.3.0)\n",
            "Requirement already satisfied: pyparsing>=2.3.1 in /usr/local/lib/python3.11/dist-packages (from matplotlib) (3.2.3)\n",
            "Requirement already satisfied: llvmlite<0.44,>=0.43.0dev0 in /usr/local/lib/python3.11/dist-packages (from numba>=0.54->shap) (0.43.0)\n",
            "Requirement already satisfied: six>=1.5 in /usr/local/lib/python3.11/dist-packages (from python-dateutil>=2.8.2->pandas) (1.17.0)\n"
          ]
        }
      ]
    },
    {
      "cell_type": "code",
      "execution_count": 2,
      "id": "f28bfe57-5698-4784-b771-c866b8887122",
      "metadata": {
        "id": "f28bfe57-5698-4784-b771-c866b8887122"
      },
      "outputs": [],
      "source": [
        "# === Import libraries ==="
      ]
    },
    {
      "cell_type": "code",
      "execution_count": 3,
      "id": "c8c4093f-e39c-407c-89a9-e215d736d748",
      "metadata": {
        "colab": {
          "base_uri": "https://localhost:8080/",
          "height": 530
        },
        "id": "c8c4093f-e39c-407c-89a9-e215d736d748",
        "outputId": "f56b2d1c-14b3-4c4b-f193-82eb077ca8c4"
      },
      "outputs": [
        {
          "output_type": "error",
          "ename": "ImportError",
          "evalue": "cannot import name 'parse_version' from 'sklearn.utils' (/usr/local/lib/python3.11/dist-packages/sklearn/utils/__init__.py)",
          "traceback": [
            "\u001b[0;31m---------------------------------------------------------------------------\u001b[0m",
            "\u001b[0;31mImportError\u001b[0m                               Traceback (most recent call last)",
            "\u001b[0;32m/tmp/ipython-input-2028043737.py\u001b[0m in \u001b[0;36m<cell line: 0>\u001b[0;34m()\u001b[0m\n\u001b[0;32m----> 1\u001b[0;31m \u001b[0;32mimport\u001b[0m \u001b[0msys\u001b[0m\u001b[0;34m,\u001b[0m \u001b[0mpandas\u001b[0m\u001b[0;34m,\u001b[0m \u001b[0mnumpy\u001b[0m\u001b[0;34m,\u001b[0m \u001b[0msklearn\u001b[0m\u001b[0;34m,\u001b[0m \u001b[0mxgboost\u001b[0m\u001b[0;34m,\u001b[0m \u001b[0mshap\u001b[0m\u001b[0;34m,\u001b[0m \u001b[0mimblearn\u001b[0m\u001b[0;34m,\u001b[0m \u001b[0mmatplotlib\u001b[0m\u001b[0;34m,\u001b[0m \u001b[0mseaborn\u001b[0m\u001b[0;34m,\u001b[0m \u001b[0mjoblib\u001b[0m\u001b[0;34m\u001b[0m\u001b[0;34m\u001b[0m\u001b[0m\n\u001b[0m\u001b[1;32m      2\u001b[0m \u001b[0mprint\u001b[0m\u001b[0;34m(\u001b[0m\u001b[0;34m\"Python:\"\u001b[0m\u001b[0;34m,\u001b[0m \u001b[0msys\u001b[0m\u001b[0;34m.\u001b[0m\u001b[0mversion\u001b[0m\u001b[0;34m)\u001b[0m\u001b[0;34m\u001b[0m\u001b[0;34m\u001b[0m\u001b[0m\n\u001b[1;32m      3\u001b[0m \u001b[0mprint\u001b[0m\u001b[0;34m(\u001b[0m\u001b[0;34m\"pandas:\"\u001b[0m\u001b[0;34m,\u001b[0m \u001b[0mpandas\u001b[0m\u001b[0;34m.\u001b[0m\u001b[0m__version__\u001b[0m\u001b[0;34m)\u001b[0m\u001b[0;34m\u001b[0m\u001b[0;34m\u001b[0m\u001b[0m\n\u001b[1;32m      4\u001b[0m \u001b[0mprint\u001b[0m\u001b[0;34m(\u001b[0m\u001b[0;34m\"numpy:\"\u001b[0m\u001b[0;34m,\u001b[0m \u001b[0mnumpy\u001b[0m\u001b[0;34m.\u001b[0m\u001b[0m__version__\u001b[0m\u001b[0;34m)\u001b[0m\u001b[0;34m\u001b[0m\u001b[0;34m\u001b[0m\u001b[0m\n\u001b[1;32m      5\u001b[0m \u001b[0mprint\u001b[0m\u001b[0;34m(\u001b[0m\u001b[0;34m\"scikit-learn:\"\u001b[0m\u001b[0;34m,\u001b[0m \u001b[0msklearn\u001b[0m\u001b[0;34m.\u001b[0m\u001b[0m__version__\u001b[0m\u001b[0;34m)\u001b[0m\u001b[0;34m\u001b[0m\u001b[0;34m\u001b[0m\u001b[0m\n",
            "\u001b[0;32m/usr/local/lib/python3.11/dist-packages/imblearn/__init__.py\u001b[0m in \u001b[0;36m<module>\u001b[0;34m\u001b[0m\n\u001b[1;32m     50\u001b[0m     \u001b[0;31m# process, as it may not be compiled yet\u001b[0m\u001b[0;34m\u001b[0m\u001b[0;34m\u001b[0m\u001b[0m\n\u001b[1;32m     51\u001b[0m \u001b[0;32melse\u001b[0m\u001b[0;34m:\u001b[0m\u001b[0;34m\u001b[0m\u001b[0;34m\u001b[0m\u001b[0m\n\u001b[0;32m---> 52\u001b[0;31m     from . import (\n\u001b[0m\u001b[1;32m     53\u001b[0m         \u001b[0mcombine\u001b[0m\u001b[0;34m,\u001b[0m\u001b[0;34m\u001b[0m\u001b[0;34m\u001b[0m\u001b[0m\n\u001b[1;32m     54\u001b[0m         \u001b[0mensemble\u001b[0m\u001b[0;34m,\u001b[0m\u001b[0;34m\u001b[0m\u001b[0;34m\u001b[0m\u001b[0m\n",
            "\u001b[0;32m/usr/local/lib/python3.11/dist-packages/imblearn/combine/__init__.py\u001b[0m in \u001b[0;36m<module>\u001b[0;34m\u001b[0m\n\u001b[1;32m      3\u001b[0m \"\"\"\n\u001b[1;32m      4\u001b[0m \u001b[0;34m\u001b[0m\u001b[0m\n\u001b[0;32m----> 5\u001b[0;31m \u001b[0;32mfrom\u001b[0m \u001b[0;34m.\u001b[0m\u001b[0m_smote_enn\u001b[0m \u001b[0;32mimport\u001b[0m \u001b[0mSMOTEENN\u001b[0m\u001b[0;34m\u001b[0m\u001b[0;34m\u001b[0m\u001b[0m\n\u001b[0m\u001b[1;32m      6\u001b[0m \u001b[0;32mfrom\u001b[0m \u001b[0;34m.\u001b[0m\u001b[0m_smote_tomek\u001b[0m \u001b[0;32mimport\u001b[0m \u001b[0mSMOTETomek\u001b[0m\u001b[0;34m\u001b[0m\u001b[0;34m\u001b[0m\u001b[0m\n\u001b[1;32m      7\u001b[0m \u001b[0;34m\u001b[0m\u001b[0m\n",
            "\u001b[0;32m/usr/local/lib/python3.11/dist-packages/imblearn/combine/_smote_enn.py\u001b[0m in \u001b[0;36m<module>\u001b[0;34m\u001b[0m\n\u001b[1;32m     10\u001b[0m \u001b[0;32mfrom\u001b[0m \u001b[0msklearn\u001b[0m\u001b[0;34m.\u001b[0m\u001b[0mutils\u001b[0m \u001b[0;32mimport\u001b[0m \u001b[0mcheck_X_y\u001b[0m\u001b[0;34m\u001b[0m\u001b[0;34m\u001b[0m\u001b[0m\n\u001b[1;32m     11\u001b[0m \u001b[0;34m\u001b[0m\u001b[0m\n\u001b[0;32m---> 12\u001b[0;31m \u001b[0;32mfrom\u001b[0m \u001b[0;34m.\u001b[0m\u001b[0;34m.\u001b[0m\u001b[0mbase\u001b[0m \u001b[0;32mimport\u001b[0m \u001b[0mBaseSampler\u001b[0m\u001b[0;34m\u001b[0m\u001b[0;34m\u001b[0m\u001b[0m\n\u001b[0m\u001b[1;32m     13\u001b[0m \u001b[0;32mfrom\u001b[0m \u001b[0;34m.\u001b[0m\u001b[0;34m.\u001b[0m\u001b[0mover_sampling\u001b[0m \u001b[0;32mimport\u001b[0m \u001b[0mSMOTE\u001b[0m\u001b[0;34m\u001b[0m\u001b[0;34m\u001b[0m\u001b[0m\n\u001b[1;32m     14\u001b[0m \u001b[0;32mfrom\u001b[0m \u001b[0;34m.\u001b[0m\u001b[0;34m.\u001b[0m\u001b[0mover_sampling\u001b[0m\u001b[0;34m.\u001b[0m\u001b[0mbase\u001b[0m \u001b[0;32mimport\u001b[0m \u001b[0mBaseOverSampler\u001b[0m\u001b[0;34m\u001b[0m\u001b[0;34m\u001b[0m\u001b[0m\n",
            "\u001b[0;32m/usr/local/lib/python3.11/dist-packages/imblearn/base.py\u001b[0m in \u001b[0;36m<module>\u001b[0;34m\u001b[0m\n\u001b[1;32m     18\u001b[0m \u001b[0;34m\u001b[0m\u001b[0m\n\u001b[1;32m     19\u001b[0m \u001b[0;32mfrom\u001b[0m \u001b[0msklearn\u001b[0m\u001b[0;34m.\u001b[0m\u001b[0mpreprocessing\u001b[0m \u001b[0;32mimport\u001b[0m \u001b[0mlabel_binarize\u001b[0m\u001b[0;34m\u001b[0m\u001b[0;34m\u001b[0m\u001b[0m\n\u001b[0;32m---> 20\u001b[0;31m \u001b[0;32mfrom\u001b[0m \u001b[0msklearn\u001b[0m\u001b[0;34m.\u001b[0m\u001b[0mutils\u001b[0m \u001b[0;32mimport\u001b[0m \u001b[0mparse_version\u001b[0m\u001b[0;34m\u001b[0m\u001b[0;34m\u001b[0m\u001b[0m\n\u001b[0m\u001b[1;32m     21\u001b[0m \u001b[0;32mfrom\u001b[0m \u001b[0msklearn\u001b[0m\u001b[0;34m.\u001b[0m\u001b[0mutils\u001b[0m\u001b[0;34m.\u001b[0m\u001b[0mmulticlass\u001b[0m \u001b[0;32mimport\u001b[0m \u001b[0mcheck_classification_targets\u001b[0m\u001b[0;34m\u001b[0m\u001b[0;34m\u001b[0m\u001b[0m\n\u001b[1;32m     22\u001b[0m \u001b[0;34m\u001b[0m\u001b[0m\n",
            "\u001b[0;31mImportError\u001b[0m: cannot import name 'parse_version' from 'sklearn.utils' (/usr/local/lib/python3.11/dist-packages/sklearn/utils/__init__.py)",
            "",
            "\u001b[0;31m---------------------------------------------------------------------------\u001b[0;32m\nNOTE: If your import is failing due to a missing package, you can\nmanually install dependencies using either !pip or !apt.\n\nTo view examples of installing some common dependencies, click the\n\"Open Examples\" button below.\n\u001b[0;31m---------------------------------------------------------------------------\u001b[0m\n"
          ],
          "errorDetails": {
            "actions": [
              {
                "action": "open_url",
                "actionText": "Open Examples",
                "url": "/notebooks/snippets/importing_libraries.ipynb"
              }
            ]
          }
        }
      ],
      "source": [
        "import sys, pandas, numpy, sklearn, xgboost, shap, imblearn, matplotlib, seaborn, joblib\n",
        "print(\"Python:\", sys.version)\n",
        "print(\"pandas:\", pandas.__version__)\n",
        "print(\"numpy:\", numpy.__version__)\n",
        "print(\"scikit-learn:\", sklearn.__version__)\n",
        "print(\"xgboost:\", xgboost.__version__)\n",
        "print(\"shap:\", shap.__version__)\n",
        "print(\"imbalanced-learn:\", imblearn.__version__)"
      ]
    },
    {
      "cell_type": "code",
      "execution_count": null,
      "id": "c447a830-1d4b-49c3-92a2-efe781c67419",
      "metadata": {
        "id": "c447a830-1d4b-49c3-92a2-efe781c67419"
      },
      "outputs": [],
      "source": [
        "import pandas as pd\n",
        "import numpy as np\n",
        "import matplotlib.pyplot as plt\n",
        "import seaborn as sns"
      ]
    },
    {
      "cell_type": "code",
      "execution_count": null,
      "id": "14ca7a54-dbc2-41bc-9a1e-f3e6c868fc20",
      "metadata": {
        "id": "14ca7a54-dbc2-41bc-9a1e-f3e6c868fc20"
      },
      "outputs": [],
      "source": [
        "from sklearn.preprocessing import StandardScaler\n",
        "from imblearn.over_sampling import SMOTE\n",
        "from sklearn.model_selection import train_test_split, GridSearchCV, StratifiedKFold\n",
        "from sklearn.linear_model import LogisticRegression\n",
        "from sklearn.tree import DecisionTreeClassifier\n",
        "from sklearn.ensemble import RandomForestClassifier\n",
        "from xgboost import XGBClassifier\n",
        "from sklearn.svm import SVC, LinearSVC\n",
        "from sklearn.neighbors import KNeighborsClassifier\n",
        "from sklearn.metrics import classification_report, confusion_matrix, accuracy_score, precision_score, recall_score, f1_score"
      ]
    },
    {
      "cell_type": "code",
      "source": [
        "from google.colab import drive\n",
        "drive.mount('/content/drive')"
      ],
      "metadata": {
        "id": "umSdpi_Rmoyj"
      },
      "id": "umSdpi_Rmoyj",
      "execution_count": null,
      "outputs": []
    },
    {
      "cell_type": "code",
      "execution_count": null,
      "id": "e13f6b33-8891-4d89-91cf-2acbb2e16fb6",
      "metadata": {
        "id": "e13f6b33-8891-4d89-91cf-2acbb2e16fb6"
      },
      "outputs": [],
      "source": [
        "# === Load dataset ==="
      ]
    },
    {
      "cell_type": "code",
      "execution_count": null,
      "id": "1584f60e-dec4-4509-8a47-29a63ba5396b",
      "metadata": {
        "id": "1584f60e-dec4-4509-8a47-29a63ba5396b"
      },
      "outputs": [],
      "source": [
        "df = pd.read_csv('/content/drive/MyDrive/Python Project/creditcard_2023.csv')"
      ]
    },
    {
      "cell_type": "code",
      "execution_count": null,
      "id": "99bc3475-6fb4-41ed-97df-18d89176d581",
      "metadata": {
        "id": "99bc3475-6fb4-41ed-97df-18d89176d581"
      },
      "outputs": [],
      "source": [
        "# === Drop ID column ==="
      ]
    },
    {
      "cell_type": "code",
      "execution_count": null,
      "id": "333df2f7-12fb-46e1-8361-66d23b6ac876",
      "metadata": {
        "id": "333df2f7-12fb-46e1-8361-66d23b6ac876"
      },
      "outputs": [],
      "source": [
        "if 'id' in df.columns:\n",
        "    df.drop(columns=['id'], inplace=True)"
      ]
    },
    {
      "cell_type": "code",
      "execution_count": null,
      "id": "ec376766-d46d-4908-ad5f-b47812f356a9",
      "metadata": {
        "id": "ec376766-d46d-4908-ad5f-b47812f356a9"
      },
      "outputs": [],
      "source": [
        "# === EDA (SAMPLE ONLY 5000 ROWS) ==="
      ]
    },
    {
      "cell_type": "code",
      "execution_count": null,
      "id": "7e9a6e64-acc9-49cf-822d-ab51c3125d46",
      "metadata": {
        "id": "7e9a6e64-acc9-49cf-822d-ab51c3125d46"
      },
      "outputs": [],
      "source": [
        "eda_df = df.sample(5000, random_state=42)\n",
        "\n",
        "print(\"Visualizing class imbalance and transaction distribution to understand data characteristics.\")\n",
        "\n",
        "plt.figure(figsize=(6,4))\n",
        "sns.countplot(x='Class', hue='Class', data=eda_df, palette=\"viridis\", legend=False)\n",
        "plt.title(\"Class Distribution (Sample 5000)\")\n",
        "plt.show()\n",
        "\n",
        "plt.figure(figsize=(6,4))\n",
        "sns.histplot(eda_df['Amount'], bins=50, kde=True, color='blue')\n",
        "plt.title(\"Transaction Amount Distribution (Sample 5000)\")\n",
        "plt.show()"
      ]
    },
    {
      "cell_type": "code",
      "execution_count": null,
      "id": "292c242c-f1cf-434f-baca-b3bd3a51bffb",
      "metadata": {
        "id": "292c242c-f1cf-434f-baca-b3bd3a51bffb"
      },
      "outputs": [],
      "source": [
        "# === Correlation Heatmap ==="
      ]
    },
    {
      "cell_type": "code",
      "execution_count": null,
      "id": "ffe11773-4e8d-4887-864f-5b411fa8b80f",
      "metadata": {
        "id": "ffe11773-4e8d-4887-864f-5b411fa8b80f"
      },
      "outputs": [],
      "source": [
        "# Correlation matrix"
      ]
    },
    {
      "cell_type": "code",
      "execution_count": null,
      "id": "2e5ccb01-0790-4acd-b0a5-f6229502078b",
      "metadata": {
        "id": "2e5ccb01-0790-4acd-b0a5-f6229502078b"
      },
      "outputs": [],
      "source": [
        "plt.figure(figsize=(12,8))\n",
        "sns.heatmap(eda_df.corr(numeric_only=True), cmap=\"coolwarm\", annot=False)\n",
        "plt.title(\"Correlation Heatmap (Sample 5000)\")\n",
        "plt.show()"
      ]
    },
    {
      "cell_type": "code",
      "execution_count": null,
      "id": "7a9d3c78-b3fa-467d-8274-4db10b1f40b7",
      "metadata": {
        "id": "7a9d3c78-b3fa-467d-8274-4db10b1f40b7"
      },
      "outputs": [],
      "source": [
        "# 1. Top Correlated Features with Fraud (Correlation of all features with the target)"
      ]
    },
    {
      "cell_type": "code",
      "execution_count": null,
      "id": "6c04d3f6-b419-4919-b6d7-fab0d4e0a1ac",
      "metadata": {
        "id": "6c04d3f6-b419-4919-b6d7-fab0d4e0a1ac"
      },
      "outputs": [],
      "source": [
        "# Top Correlated Features with Fraud\n",
        "corr_with_class = df.corr(numeric_only=True)['Class'].sort_values(ascending=False)\n",
        "\n",
        "# Display top 5 positively and negatively correlated features in a single table\n",
        "top_corr = pd.concat([corr_with_class.head(5), corr_with_class.tail(5)])\n",
        "display(top_corr.to_frame(name='Correlation with Class'))"
      ]
    },
    {
      "cell_type": "code",
      "execution_count": null,
      "id": "1d210012-d470-4985-9d3d-4f85abc75ddf",
      "metadata": {
        "id": "1d210012-d470-4985-9d3d-4f85abc75ddf"
      },
      "outputs": [],
      "source": [
        "plt.figure(figsize=(8,5))\n",
        "sns.barplot(\n",
        "    x=corr_with_class.head(10).values,\n",
        "    y=corr_with_class.head(10).index,\n",
        "    hue=corr_with_class.head(10).index,  # assign y to hue\n",
        "    dodge=False,\n",
        "    palette=\"magma\",\n",
        "    legend=False\n",
        ")\n",
        "plt.title(\"Top 10 Features Positively Correlated with Fraud\")\n",
        "plt.xlabel(\"Correlation with Class\")\n",
        "plt.show()"
      ]
    },
    {
      "cell_type": "code",
      "execution_count": null,
      "id": "01f0dda2-a852-46e7-abce-c8c90bff2a3c",
      "metadata": {
        "id": "01f0dda2-a852-46e7-abce-c8c90bff2a3c"
      },
      "outputs": [],
      "source": [
        "# 2. Distribution Differences between Fraud / Non-Fraud (Select top 5 correlated features for visualization)"
      ]
    },
    {
      "cell_type": "code",
      "execution_count": null,
      "id": "d4408e36-72de-4149-a4a0-40e64cc0d43e",
      "metadata": {
        "id": "d4408e36-72de-4149-a4a0-40e64cc0d43e"
      },
      "outputs": [],
      "source": [
        "top_features = corr_with_class.head(6).index.drop('Class')"
      ]
    },
    {
      "cell_type": "code",
      "execution_count": null,
      "id": "c972cec6-5bec-4167-a894-3623218c7fdb",
      "metadata": {
        "id": "c972cec6-5bec-4167-a894-3623218c7fdb"
      },
      "outputs": [],
      "source": [
        "for feat in top_features:\n",
        "    plt.figure(figsize=(6,4))\n",
        "    sns.kdeplot(df[df['Class']==0][feat], label='Non-Fraud', fill=True)\n",
        "    sns.kdeplot(df[df['Class']==1][feat], label='Fraud', fill=True)\n",
        "    plt.title(f\"Distribution of {feat} for Fraud vs Non-Fraud\")\n",
        "    plt.xlabel(feat)\n",
        "    plt.ylabel(\"Density\")\n",
        "    plt.legend()\n",
        "    plt.show()"
      ]
    },
    {
      "cell_type": "code",
      "execution_count": null,
      "id": "1c05daff-c0e1-4b22-b56b-c05fca172286",
      "metadata": {
        "id": "1c05daff-c0e1-4b22-b56b-c05fca172286"
      },
      "outputs": [],
      "source": [
        "# 3. Feature Importance Beyond Correlation (Random Forest)"
      ]
    },
    {
      "cell_type": "code",
      "execution_count": null,
      "id": "15e756b3-f7d2-4281-9380-67de856360e6",
      "metadata": {
        "id": "15e756b3-f7d2-4281-9380-67de856360e6"
      },
      "outputs": [],
      "source": [
        "from sklearn.ensemble import RandomForestClassifier"
      ]
    },
    {
      "cell_type": "code",
      "execution_count": null,
      "id": "9740178f-b3b0-4d2a-ad65-29682e2df8ee",
      "metadata": {
        "id": "9740178f-b3b0-4d2a-ad65-29682e2df8ee"
      },
      "outputs": [],
      "source": [
        "X = df.drop(columns=['Class'])\n",
        "y = df['Class']"
      ]
    },
    {
      "cell_type": "code",
      "execution_count": null,
      "id": "8c439e71-757d-40e6-a61f-7d1c0e289f8a",
      "metadata": {
        "id": "8c439e71-757d-40e6-a61f-7d1c0e289f8a"
      },
      "outputs": [],
      "source": [
        "rf = RandomForestClassifier(n_estimators=100, random_state=42, n_jobs=-1)\n",
        "rf.fit(X, y)"
      ]
    },
    {
      "cell_type": "code",
      "execution_count": null,
      "id": "2efdf441-d52f-489b-9455-6ed1f7ee776d",
      "metadata": {
        "id": "2efdf441-d52f-489b-9455-6ed1f7ee776d"
      },
      "outputs": [],
      "source": [
        "# Get importances\n",
        "importances = pd.Series(rf.feature_importances_, index=X.columns).sort_values(ascending=False)"
      ]
    },
    {
      "cell_type": "code",
      "execution_count": null,
      "id": "6ea5ace1-e514-413c-a805-8d9628772ee5",
      "metadata": {
        "id": "6ea5ace1-e514-413c-a805-8d9628772ee5"
      },
      "outputs": [],
      "source": [
        "plt.figure(figsize=(8,6))\n",
        "sns.barplot(\n",
        "    x=importances.head(15).values,\n",
        "    y=importances.head(15).index,\n",
        "    hue=importances.head(15).index,\n",
        "    dodge=False,\n",
        "    palette=\"tab20\",\n",
        "    legend=False\n",
        ")\n",
        "plt.title(\"Top 15 Feature Importances (Random Forest)\")\n",
        "plt.xlabel(\"Importance\")\n",
        "\n",
        "# Add percentage labels on bars\n",
        "for i, v in enumerate(importances.head(15)):\n",
        "    plt.text(v + 0.001, i, f\"{v:.2%}\", color='black', va='center')\n",
        "\n",
        "plt.show()"
      ]
    },
    {
      "cell_type": "code",
      "execution_count": null,
      "id": "e925f211-b254-41be-a88f-22083c83f967",
      "metadata": {
        "id": "e925f211-b254-41be-a88f-22083c83f967"
      },
      "outputs": [],
      "source": [
        "# === Feature Scaling & SMOTE === (limit to 50k samples)"
      ]
    },
    {
      "cell_type": "code",
      "execution_count": null,
      "id": "fb1ef24b-a8aa-4c4d-89df-52a96d44b72f",
      "metadata": {
        "id": "fb1ef24b-a8aa-4c4d-89df-52a96d44b72f"
      },
      "outputs": [],
      "source": [
        "X = df.drop(columns=['Class'])\n",
        "y = df['Class']"
      ]
    },
    {
      "cell_type": "code",
      "execution_count": null,
      "id": "d9eb3a0e-e20d-4753-bf5e-087aa44a6feb",
      "metadata": {
        "id": "d9eb3a0e-e20d-4753-bf5e-087aa44a6feb"
      },
      "outputs": [],
      "source": [
        "scaler = StandardScaler()\n",
        "X_scaled = scaler.fit_transform(X)"
      ]
    },
    {
      "cell_type": "code",
      "execution_count": null,
      "id": "dea73fa0-688f-4d77-9349-ee1610af97e8",
      "metadata": {
        "id": "dea73fa0-688f-4d77-9349-ee1610af97e8"
      },
      "outputs": [],
      "source": [
        "# Apply SMOTE"
      ]
    },
    {
      "cell_type": "code",
      "execution_count": null,
      "id": "8f86547c-f55d-43b8-9c5b-93ae55130fc0",
      "metadata": {
        "id": "8f86547c-f55d-43b8-9c5b-93ae55130fc0"
      },
      "outputs": [],
      "source": [
        "from imblearn.over_sampling import SMOTE"
      ]
    },
    {
      "cell_type": "code",
      "execution_count": null,
      "id": "5da0c8ac-94af-4b03-b374-b064389fd69e",
      "metadata": {
        "id": "5da0c8ac-94af-4b03-b374-b064389fd69e"
      },
      "outputs": [],
      "source": [
        "from collections import Counter\n",
        "cnt = Counter(y)\n",
        "minority, majority = min(cnt, key=cnt.get), max(cnt, key=cnt.get)\n",
        "\n",
        "if cnt[minority] == cnt[majority]:\n",
        "    print(\"Classes already balanced, skipping SMOTE.\")\n",
        "    X_resampled, y_resampled = X_scaled, y\n",
        "else:\n",
        "    smote = SMOTE(random_state=42, sampling_strategy=1.0)\n",
        "    X_resampled, y_resampled = smote.fit_resample(X_scaled, y)"
      ]
    },
    {
      "cell_type": "code",
      "execution_count": null,
      "id": "532696bc-413d-40cd-976c-97c04ca1f6e0",
      "metadata": {
        "id": "532696bc-413d-40cd-976c-97c04ca1f6e0"
      },
      "outputs": [],
      "source": [
        "print(y_resampled.value_counts(normalize=True))"
      ]
    },
    {
      "cell_type": "code",
      "execution_count": null,
      "id": "841f23c1-a42b-4e59-bfd8-161d69028802",
      "metadata": {
        "id": "841f23c1-a42b-4e59-bfd8-161d69028802"
      },
      "outputs": [],
      "source": [
        "# === Train-Test Split ==="
      ]
    },
    {
      "cell_type": "code",
      "execution_count": null,
      "id": "50bf7659-0ea1-42c2-aa08-474cd54c10c4",
      "metadata": {
        "id": "50bf7659-0ea1-42c2-aa08-474cd54c10c4"
      },
      "outputs": [],
      "source": [
        "X_train, X_test, y_train, y_test = train_test_split(X_resampled, y_resampled, test_size=0.2, random_state=42)"
      ]
    },
    {
      "cell_type": "code",
      "execution_count": null,
      "id": "11484846-e9ef-4cdc-a6a0-49a90a951b93",
      "metadata": {
        "id": "11484846-e9ef-4cdc-a6a0-49a90a951b93"
      },
      "outputs": [],
      "source": [
        "#---Creating a smaller subset for KNN (10% of training data)---\n",
        "X_train_knn, _, y_train_knn, _ = train_test_split(X_train, y_train, test_size=0.9, random_state=42, stratify=y_train)"
      ]
    },
    {
      "cell_type": "code",
      "execution_count": null,
      "id": "181d89d1-9958-4d5d-b5dd-02cb7f26cd68",
      "metadata": {
        "id": "181d89d1-9958-4d5d-b5dd-02cb7f26cd68"
      },
      "outputs": [],
      "source": [
        "# === Model Training (Single Pass) ==="
      ]
    },
    {
      "cell_type": "code",
      "execution_count": null,
      "id": "33c91696-972f-45c6-bdc0-cb2b7fe99848",
      "metadata": {
        "id": "33c91696-972f-45c6-bdc0-cb2b7fe99848"
      },
      "outputs": [],
      "source": [
        "models = {\n",
        "    \"Logistic Regression\": LogisticRegression(max_iter=500),\n",
        "    \"Decision Tree\": DecisionTreeClassifier(max_depth=5, min_samples_split=20),\n",
        "    \"Random Forest\": RandomForestClassifier(n_estimators=20, n_jobs=-1, max_depth=10),\n",
        "    \"XGBoost\": XGBClassifier(eval_metric='logloss', n_estimators=50, tree_method='hist'),\n",
        "    \"KNN\": KNeighborsClassifier(n_jobs=-1, n_neighbors=5)\n",
        "}"
      ]
    },
    {
      "cell_type": "code",
      "execution_count": null,
      "id": "045232c1-58fa-4e32-a97e-697c66b03fc0",
      "metadata": {
        "id": "045232c1-58fa-4e32-a97e-697c66b03fc0"
      },
      "outputs": [],
      "source": [
        "print(\"Models to train:\", list(models.keys()))"
      ]
    },
    {
      "cell_type": "code",
      "execution_count": null,
      "id": "47026a39-18e3-465b-9fc2-24cfd4dea7ad",
      "metadata": {
        "id": "47026a39-18e3-465b-9fc2-24cfd4dea7ad"
      },
      "outputs": [],
      "source": [
        "trained_models = {}"
      ]
    },
    {
      "cell_type": "code",
      "execution_count": null,
      "id": "22d205fa-3520-4b5a-bc95-80e0d2c44bbd",
      "metadata": {
        "id": "22d205fa-3520-4b5a-bc95-80e0d2c44bbd"
      },
      "outputs": [],
      "source": [
        "results_list = []"
      ]
    },
    {
      "cell_type": "code",
      "execution_count": null,
      "id": "8d9c14bc-591e-45c4-90cc-2c36a4aee333",
      "metadata": {
        "id": "8d9c14bc-591e-45c4-90cc-2c36a4aee333"
      },
      "outputs": [],
      "source": [
        "# === Train models & store metrics ==="
      ]
    },
    {
      "cell_type": "code",
      "execution_count": null,
      "id": "ef7c6f6e-2056-4214-95bc-1fb3bf78b1ed",
      "metadata": {
        "id": "ef7c6f6e-2056-4214-95bc-1fb3bf78b1ed"
      },
      "outputs": [],
      "source": [
        "import time"
      ]
    },
    {
      "cell_type": "code",
      "execution_count": null,
      "id": "b07661de-5f4d-4ab6-b344-c879154ec026",
      "metadata": {
        "id": "b07661de-5f4d-4ab6-b344-c879154ec026"
      },
      "outputs": [],
      "source": [
        "for name, model in models.items():\n",
        "    print(f\"\\n🔹 Training {name}...\")\n",
        "    start = time.time()\n",
        "\n",
        "    if name == \"KNN\":\n",
        "        model.fit(X_train_knn, y_train_knn)\n",
        "    else:\n",
        "        model.fit(X_train, y_train)\n",
        "\n",
        "    y_pred = model.predict(X_test)\n",
        "    trained_models[name] = model\n",
        "    end = time.time()\n",
        "\n",
        "    acc = accuracy_score(y_test, y_pred)\n",
        "    prec = precision_score(y_test, y_pred)\n",
        "    rec = recall_score(y_test, y_pred)\n",
        "    f1 = f1_score(y_test, y_pred)\n",
        "\n",
        "    # Save results\n",
        "    results_list.append({\n",
        "        \"Model\": name,\n",
        "        \"Accuracy\": acc,\n",
        "        \"Precision\": prec,\n",
        "        \"Recall\": rec,\n",
        "        \"F1\": f1\n",
        "    })\n",
        "    print(f\"✅ {name} done in {end - start:.2f} sec | F1 = {f1:.4f}\")"
      ]
    },
    {
      "cell_type": "code",
      "execution_count": null,
      "id": "30f6f1e4-731b-4b8b-8496-79a2148f9c31",
      "metadata": {
        "id": "30f6f1e4-731b-4b8b-8496-79a2148f9c31"
      },
      "outputs": [],
      "source": [
        "# results dataframe"
      ]
    },
    {
      "cell_type": "code",
      "execution_count": null,
      "id": "6ab1ba5d-542c-4c49-9f9b-31b05060de73",
      "metadata": {
        "id": "6ab1ba5d-542c-4c49-9f9b-31b05060de73"
      },
      "outputs": [],
      "source": [
        "results_df_models = pd.DataFrame(results_list).sort_values(by=\"F1\", ascending=False).reset_index(drop=True)"
      ]
    },
    {
      "cell_type": "code",
      "execution_count": null,
      "id": "5c871d3e-39a1-4ffc-961d-10afe4ff10f4",
      "metadata": {
        "id": "5c871d3e-39a1-4ffc-961d-10afe4ff10f4"
      },
      "outputs": [],
      "source": [
        "print(\"\\n=== Model Comparison (sorted by F1) ===\")\n",
        "display(results_df_models.style.background_gradient(cmap='viridis'))"
      ]
    },
    {
      "cell_type": "code",
      "execution_count": null,
      "id": "f26ccec3-9833-4ba8-b677-05f85edde295",
      "metadata": {
        "id": "f26ccec3-9833-4ba8-b677-05f85edde295"
      },
      "outputs": [],
      "source": [
        "# === Confusion Matrix (Random Forest) ==="
      ]
    },
    {
      "cell_type": "code",
      "execution_count": null,
      "id": "e261fff0-1693-4708-80a8-85afc72c4468",
      "metadata": {
        "id": "e261fff0-1693-4708-80a8-85afc72c4468"
      },
      "outputs": [],
      "source": [
        "rf = trained_models[\"Random Forest\"]\n",
        "cm = confusion_matrix(y_test, rf.predict(X_test))\n",
        "plt.figure(figsize=(5,4))\n",
        "sns.heatmap(cm, annot=True, fmt='d', cmap='Blues')\n",
        "plt.title(\"Random Forest Confusion Matrix\")\n",
        "plt.xlabel(\"Predicted\")\n",
        "plt.ylabel(\"Actual\")\n",
        "plt.show()"
      ]
    },
    {
      "cell_type": "code",
      "execution_count": null,
      "id": "545c5074-447e-449b-b56d-6decaf4af7ca",
      "metadata": {
        "id": "545c5074-447e-449b-b56d-6decaf4af7ca"
      },
      "outputs": [],
      "source": [
        "# === SHAP Explainability (Sample: only 200 rows) ==="
      ]
    },
    {
      "cell_type": "code",
      "execution_count": null,
      "id": "ec1a6e39-1902-4c2c-815a-421c70e54c57",
      "metadata": {
        "id": "ec1a6e39-1902-4c2c-815a-421c70e54c57"
      },
      "outputs": [],
      "source": [
        "plt.title(\"SHAP Feature Impact on XGBoost Predictions (Top 200 samples)\")\n",
        "xgb = trained_models[\"XGBoost\"]\n",
        "explainer = shap.TreeExplainer(xgb)\n",
        "shap_values = explainer.shap_values(X_test[:200])\n",
        "shap.summary_plot(shap_values, X_test[:200], feature_names=df.drop(columns=['Class']).columns)"
      ]
    },
    {
      "cell_type": "code",
      "execution_count": null,
      "id": "bc64ed23-ab0b-4f2d-8c5c-01b21812209f",
      "metadata": {
        "id": "bc64ed23-ab0b-4f2d-8c5c-01b21812209f"
      },
      "outputs": [],
      "source": [
        "# === Hyperparameter Tuning (Tuning key parameters to improve F1 while keeping runtime reasonable - subset used for speed)==="
      ]
    },
    {
      "cell_type": "code",
      "execution_count": null,
      "id": "cf7aa80e-d779-4cd6-89a9-ef7828e69770",
      "metadata": {
        "id": "cf7aa80e-d779-4cd6-89a9-ef7828e69770"
      },
      "outputs": [],
      "source": [
        "# 1. For KNN"
      ]
    },
    {
      "cell_type": "code",
      "execution_count": null,
      "id": "435098dc-b964-4db2-ba37-40351086ad5f",
      "metadata": {
        "id": "435098dc-b964-4db2-ba37-40351086ad5f"
      },
      "outputs": [],
      "source": [
        "from sklearn.model_selection import GridSearchCV, StratifiedKFold"
      ]
    },
    {
      "cell_type": "code",
      "execution_count": null,
      "id": "a862a639-c386-44cb-aded-b01ab24ac975",
      "metadata": {
        "id": "a862a639-c386-44cb-aded-b01ab24ac975"
      },
      "outputs": [],
      "source": [
        "print(\"\\nTuning KNN with small grid (faster)...\")\n",
        "param_grid = {\n",
        "    \"n_neighbors\": [3, 5, 7],\n",
        "    \"weights\": [\"uniform\", \"distance\"]\n",
        "}"
      ]
    },
    {
      "cell_type": "code",
      "execution_count": null,
      "id": "d76f4c44-d314-4f3a-b87f-0b34907e8b0b",
      "metadata": {
        "id": "d76f4c44-d314-4f3a-b87f-0b34907e8b0b"
      },
      "outputs": [],
      "source": [
        "cv = StratifiedKFold(n_splits=3, shuffle=True, random_state=42)"
      ]
    },
    {
      "cell_type": "code",
      "execution_count": null,
      "id": "62433fc6-3893-41e0-a4be-4072bce70f45",
      "metadata": {
        "id": "62433fc6-3893-41e0-a4be-4072bce70f45"
      },
      "outputs": [],
      "source": [
        "grid = GridSearchCV(\n",
        "    KNeighborsClassifier(),\n",
        "    param_grid,\n",
        "    scoring=\"f1\",\n",
        "    cv=cv,\n",
        "    n_jobs=-1,\n",
        "    verbose=1\n",
        ")"
      ]
    },
    {
      "cell_type": "code",
      "execution_count": null,
      "id": "7c876323-9e8b-47f6-83f7-05c9c9ddb728",
      "metadata": {
        "id": "7c876323-9e8b-47f6-83f7-05c9c9ddb728"
      },
      "outputs": [],
      "source": [
        "grid.fit(X_train[:10000], y_train[:10000])\n",
        "best_model = grid.best_estimator_\n",
        "\n",
        "print(\"\\nBest Params:\", grid.best_params_)\n",
        "print(\"Best CV F1:\", grid.best_score_)"
      ]
    },
    {
      "cell_type": "code",
      "execution_count": null,
      "id": "32da4b0f-de7e-477d-92e5-b1059d089352",
      "metadata": {
        "id": "32da4b0f-de7e-477d-92e5-b1059d089352"
      },
      "outputs": [],
      "source": [
        "y_pred = best_model.predict(X_test)"
      ]
    },
    {
      "cell_type": "code",
      "execution_count": null,
      "id": "4a6e62a1-1688-4259-b1ef-6d1e8f020803",
      "metadata": {
        "id": "4a6e62a1-1688-4259-b1ef-6d1e8f020803"
      },
      "outputs": [],
      "source": [
        "print(\"\\n=== Tuned KNN on Test Set ===\")\n",
        "print(classification_report(y_test, y_pred, digits=4))"
      ]
    },
    {
      "cell_type": "code",
      "execution_count": null,
      "id": "cb540704-59de-4545-a823-32287948dc59",
      "metadata": {
        "id": "cb540704-59de-4545-a823-32287948dc59"
      },
      "outputs": [],
      "source": [
        "# 2. For Random Forest"
      ]
    },
    {
      "cell_type": "code",
      "execution_count": null,
      "id": "7164ab1a-d071-4c31-a564-5707705b394c",
      "metadata": {
        "id": "7164ab1a-d071-4c31-a564-5707705b394c"
      },
      "outputs": [],
      "source": [
        "rf_param_grid = {\n",
        "    'n_estimators': [50, 100],\n",
        "    'max_depth': [5, 10],\n",
        "    'min_samples_split': [10, 20]\n",
        "}\n",
        "rf_cv = GridSearchCV(\n",
        "    estimator=RandomForestClassifier(random_state=42, n_jobs=-1),\n",
        "    param_grid=rf_param_grid,\n",
        "    scoring='f1',\n",
        "    cv=StratifiedKFold(n_splits=3, shuffle=True, random_state=42),\n",
        "    n_jobs=-1,\n",
        "    verbose=1\n",
        ")\n",
        "rf_cv.fit(X_train[:10000], y_train[:10000])\n",
        "\n",
        "print(\"Random Forest Best Params:\", rf_cv.best_params_)\n",
        "print(\"Best CV F1:\", rf_cv.best_score_)\n",
        "\n",
        "rf_best = rf_cv.best_estimator_ #(Get best model)"
      ]
    },
    {
      "cell_type": "code",
      "execution_count": null,
      "id": "cdc1e2e0-235d-4e28-9bd1-f1a5bfe4940a",
      "metadata": {
        "id": "cdc1e2e0-235d-4e28-9bd1-f1a5bfe4940a"
      },
      "outputs": [],
      "source": [
        "# 3. XG Boost"
      ]
    },
    {
      "cell_type": "code",
      "execution_count": null,
      "id": "4d99c9f6-83c8-4d42-a9d3-cf918ef5bf69",
      "metadata": {
        "id": "4d99c9f6-83c8-4d42-a9d3-cf918ef5bf69"
      },
      "outputs": [],
      "source": [
        "xgb_param_grid = {\n",
        "    'n_estimators': [50, 100],\n",
        "    'max_depth': [3, 5],\n",
        "    'learning_rate': [0.1, 0.3],\n",
        "    'subsample': [0.8, 1.0]\n",
        "}\n",
        "xgb_cv = GridSearchCV(\n",
        "    estimator=XGBClassifier(eval_metric='logloss', tree_method='hist', random_state=42, n_jobs=-1),\n",
        "    param_grid=xgb_param_grid,\n",
        "    scoring='f1',\n",
        "    cv=StratifiedKFold(n_splits=3, shuffle=True, random_state=42),\n",
        "    n_jobs=-1,\n",
        "    verbose=1\n",
        ")\n",
        "xgb_cv.fit(X_train[:10000], y_train[:10000])\n",
        "\n",
        "print(\"XGBoost Best Params:\", xgb_cv.best_params_)\n",
        "print(\"Best CV F1:\", xgb_cv.best_score_)\n",
        "\n",
        "xgb_best = xgb_cv.best_estimator_ #(Get best model)"
      ]
    },
    {
      "cell_type": "code",
      "execution_count": null,
      "id": "5517ae9c-2770-489e-bf68-ebe51fecf9d7",
      "metadata": {
        "id": "5517ae9c-2770-489e-bf68-ebe51fecf9d7"
      },
      "outputs": [],
      "source": [
        "# List to hold tuning results"
      ]
    },
    {
      "cell_type": "code",
      "execution_count": null,
      "id": "3b207e0d-6900-4c46-ab20-cc23dd7bacf7",
      "metadata": {
        "id": "3b207e0d-6900-4c46-ab20-cc23dd7bacf7"
      },
      "outputs": [],
      "source": [
        "tuning_results = []\n",
        "\n",
        "# KNN\n",
        "tuning_results.append({\n",
        "    \"Model\": \"KNN\",\n",
        "    \"Best Params\": grid.best_params_,\n",
        "    \"Best CV F1\": grid.best_score_\n",
        "})\n",
        "\n",
        "# Random Forest\n",
        "tuning_results.append({\n",
        "    \"Model\": \"Random Forest\",\n",
        "    \"Best Params\": rf_cv.best_params_,\n",
        "    \"Best CV F1\": rf_cv.best_score_\n",
        "})\n",
        "\n",
        "# XGBoost\n",
        "tuning_results.append({\n",
        "    \"Model\": \"XGBoost\",\n",
        "    \"Best Params\": xgb_cv.best_params_,\n",
        "    \"Best CV F1\": xgb_cv.best_score_\n",
        "})"
      ]
    },
    {
      "cell_type": "code",
      "execution_count": null,
      "id": "46074c35-6591-4d9f-ba43-b50a9642bb01",
      "metadata": {
        "id": "46074c35-6591-4d9f-ba43-b50a9642bb01"
      },
      "outputs": [],
      "source": [
        "# Create summary table\n",
        "tuning_summary_df = pd.DataFrame(tuning_results)\n",
        "\n",
        "# Display with gradient for visual impact\n",
        "display(tuning_summary_df.style.background_gradient(cmap='viridis'))"
      ]
    },
    {
      "cell_type": "code",
      "execution_count": null,
      "id": "db42f07e-acf7-4df0-aefd-920b6d969dfd",
      "metadata": {
        "id": "db42f07e-acf7-4df0-aefd-920b6d969dfd"
      },
      "outputs": [],
      "source": [
        "# === Probability for fraud class ==="
      ]
    },
    {
      "cell_type": "code",
      "execution_count": null,
      "id": "c25ca45f-7442-46f7-aaad-7dde61ad538e",
      "metadata": {
        "id": "c25ca45f-7442-46f7-aaad-7dde61ad538e"
      },
      "outputs": [],
      "source": [
        "from sklearn.metrics import classification_report, confusion_matrix, ConfusionMatrixDisplay, roc_auc_score, roc_curve\n",
        "import matplotlib.pyplot as plt"
      ]
    },
    {
      "cell_type": "code",
      "execution_count": null,
      "id": "72af3811-72a9-4cc2-b116-89f4890b19b1",
      "metadata": {
        "id": "72af3811-72a9-4cc2-b116-89f4890b19b1"
      },
      "outputs": [],
      "source": [
        "y_proba = best_model.predict_proba(X_test)[:,1]\n",
        "auc = roc_auc_score(y_test, y_proba)"
      ]
    },
    {
      "cell_type": "code",
      "execution_count": null,
      "id": "8c26c936-1839-4d63-b128-737333f197b6",
      "metadata": {
        "id": "8c26c936-1839-4d63-b128-737333f197b6"
      },
      "outputs": [],
      "source": [
        "plt.figure(figsize=(8,6))\n",
        "\n",
        "for name, model in trained_models.items():\n",
        "    if hasattr(model, \"predict_proba\"):\n",
        "        y_proba = model.predict_proba(X_test)[:, 1]\n",
        "    elif hasattr(model, \"decision_function\"):  # (Optional) fallback for models like SVM\n",
        "        y_proba = model.decision_function(X_test)\n",
        "    else:\n",
        "        continue  # Skip models without probability scores\n",
        "\n",
        "    auc = roc_auc_score(y_test, y_proba)\n",
        "    fpr, tpr, _ = roc_curve(y_test, y_proba)\n",
        "    plt.plot(fpr, tpr, label=f\"{name} (AUC = {auc:.4f})\")\n",
        "\n",
        "# Random baseline\n",
        "plt.plot([0, 1], [0, 1], \"--\", color=\"gray\")\n",
        "\n",
        "plt.xlabel(\"False Positive Rate\")\n",
        "plt.ylabel(\"True Positive Rate\")\n",
        "plt.title(\"ROC Curves for All Models\")\n",
        "plt.legend()\n",
        "plt.show()"
      ]
    },
    {
      "cell_type": "code",
      "execution_count": null,
      "id": "95eeebae-6354-4642-aa9c-c8b34e353b5e",
      "metadata": {
        "id": "95eeebae-6354-4642-aa9c-c8b34e353b5e"
      },
      "outputs": [],
      "source": [
        "# === Save Final Model ==="
      ]
    },
    {
      "cell_type": "code",
      "execution_count": null,
      "id": "cfdd1fd7-4c2d-4af7-93be-3da84abe970e",
      "metadata": {
        "id": "cfdd1fd7-4c2d-4af7-93be-3da84abe970e"
      },
      "outputs": [],
      "source": [
        "feature_names = df.drop(columns=[\"Class\"]).columns.tolist()"
      ]
    },
    {
      "cell_type": "code",
      "execution_count": null,
      "id": "b093c940-428a-41e8-89cc-0e997f77e3d3",
      "metadata": {
        "id": "b093c940-428a-41e8-89cc-0e997f77e3d3"
      },
      "outputs": [],
      "source": [
        "artifact = {\n",
        "    \"scaler\": scaler,\n",
        "    \"model\": best_model,\n",
        "    \"feature_names\": feature_names,\n",
        "    \"target_name\": \"Class\"\n",
        "}"
      ]
    },
    {
      "cell_type": "code",
      "source": [
        "artifact_path = '/content/drive/MyDrive/Python Project/artifacts/fraud_detection_artifacts.pkl'"
      ],
      "metadata": {
        "id": "KkDPZxxYyhRB"
      },
      "id": "KkDPZxxYyhRB",
      "execution_count": null,
      "outputs": []
    },
    {
      "cell_type": "code",
      "execution_count": null,
      "id": "9355a289-daaa-4bb2-bafd-8d9f5e08060b",
      "metadata": {
        "id": "9355a289-daaa-4bb2-bafd-8d9f5e08060b"
      },
      "outputs": [],
      "source": [
        "joblib.dump(artifact, \"fraud_detection_artifacts.pkl\", compress=3)"
      ]
    },
    {
      "cell_type": "code",
      "execution_count": null,
      "id": "c7f722b2-d08b-4b81-8c0a-67079431f9ae",
      "metadata": {
        "id": "c7f722b2-d08b-4b81-8c0a-67079431f9ae"
      },
      "outputs": [],
      "source": [
        "print(\"Saved: /content/drive/MyDrive/Python Project/artifacts/fraud_detection_artifacts.pkl\")"
      ]
    },
    {
      "cell_type": "code",
      "execution_count": null,
      "id": "e3822884-16de-48df-ba2c-aa2d1b52037c",
      "metadata": {
        "id": "e3822884-16de-48df-ba2c-aa2d1b52037c"
      },
      "outputs": [],
      "source": [
        "# === Load & Predict Example ==="
      ]
    },
    {
      "cell_type": "code",
      "execution_count": null,
      "id": "d885bf9b-7897-4b61-9ae3-ebec2f199850",
      "metadata": {
        "id": "d885bf9b-7897-4b61-9ae3-ebec2f199850"
      },
      "outputs": [],
      "source": [
        "loaded = joblib.load(artifact_path)"
      ]
    },
    {
      "cell_type": "code",
      "execution_count": null,
      "id": "d14bd422-a221-45a7-80f4-e0003265be33",
      "metadata": {
        "id": "d14bd422-a221-45a7-80f4-e0003265be33"
      },
      "outputs": [],
      "source": [
        "# === Function to test random samples ==="
      ]
    },
    {
      "cell_type": "code",
      "execution_count": null,
      "id": "58a93b94-9d25-4ed9-9143-25a22755e72d",
      "metadata": {
        "id": "58a93b94-9d25-4ed9-9143-25a22755e72d"
      },
      "outputs": [],
      "source": [
        "def test_random_samples(df, n=10):\n",
        "    sample_df = df.sample(n=n, random_state=42)   # random rows\n",
        "    X_new = sample_df[feature_names].copy()\n",
        "    y_true = sample_df[\"Class\"].values\n",
        "\n",
        "    # Scale features\n",
        "    X_new_scaled = loaded[\"scaler\"].transform(X_new)\n",
        "\n",
        "    # Predictions + probabilities\n",
        "    preds = loaded[\"model\"].predict(X_new_scaled)\n",
        "    proba = loaded[\"model\"].predict_proba(X_new_scaled)\n",
        "\n",
        "    # Build results DataFrame\n",
        "    results_df = pd.DataFrame({\n",
        "        \"True_Label\": y_true,\n",
        "        \"Prediction\": preds,\n",
        "        \"Prob_0\": proba[:, 0],\n",
        "        \"Prob_1\": proba[:, 1]\n",
        "    }, index=sample_df.index)\n",
        "\n",
        "    print(f\"\\n=== Predictions for {n} Random Samples ===\")\n",
        "    print(results_df)\n",
        "\n",
        "    return results_df, y_true, preds\n",
        "results_df, y_true, preds = test_random_samples(df, n=10)"
      ]
    },
    {
      "cell_type": "code",
      "execution_count": null,
      "id": "9e6c0ef2-fd51-4a6c-91a3-0618382242db",
      "metadata": {
        "id": "9e6c0ef2-fd51-4a6c-91a3-0618382242db"
      },
      "outputs": [],
      "source": [
        "cm = confusion_matrix(y_true, preds)\n",
        "plt.figure(figsize=(5,4))\n",
        "sns.heatmap(cm, annot=True, fmt=\"d\", cmap=\"Blues\", cbar=False,\n",
        "            xticklabels=[\"Non-Fraud (0)\", \"Fraud (1)\"],\n",
        "            yticklabels=[\"Non-Fraud (0)\", \"Fraud (1)\"])\n",
        "plt.xlabel(\"Predicted\")\n",
        "plt.ylabel(\"Actual\")\n",
        "plt.title(f\"Confusion Matrix for {len(y_true)} Random Samples\")\n",
        "plt.show()"
      ]
    },
    {
      "cell_type": "code",
      "execution_count": null,
      "id": "46360a20-1ebb-42e2-8eb1-ecc758c17178",
      "metadata": {
        "id": "46360a20-1ebb-42e2-8eb1-ecc758c17178"
      },
      "outputs": [],
      "source": [
        "# === Model Performance Discussion ==="
      ]
    },
    {
      "cell_type": "code",
      "execution_count": null,
      "id": "3367c4c9-1dee-4cc6-827f-59892b4442df",
      "metadata": {
        "id": "3367c4c9-1dee-4cc6-827f-59892b4442df"
      },
      "outputs": [],
      "source": [
        "# 1. Summary of results"
      ]
    },
    {
      "cell_type": "code",
      "execution_count": null,
      "id": "a56c32c5-2ad0-48c6-864d-b2909c0812b3",
      "metadata": {
        "id": "a56c32c5-2ad0-48c6-864d-b2909c0812b3"
      },
      "outputs": [],
      "source": [
        "print(\"\\n=== Model Metrics Summary ===\")\n",
        "print(results_df)"
      ]
    },
    {
      "cell_type": "code",
      "execution_count": null,
      "id": "4d420ad0-922c-41a2-b284-114d10dfa1d9",
      "metadata": {
        "id": "4d420ad0-922c-41a2-b284-114d10dfa1d9"
      },
      "outputs": [],
      "source": [
        "best_model_name = results_df_models.loc[0, \"Model\"]\n",
        "best_model = trained_models[best_model_name]\n",
        "print(f\"\\nBest performing model (by F1 score): {best_model_name}\")"
      ]
    },
    {
      "cell_type": "code",
      "execution_count": null,
      "id": "7ff570ed-093f-4dfe-8b02-69dbff49cab3",
      "metadata": {
        "id": "7ff570ed-093f-4dfe-8b02-69dbff49cab3"
      },
      "outputs": [],
      "source": [
        "# 2. Why XGBoost perform better"
      ]
    },
    {
      "cell_type": "code",
      "execution_count": null,
      "id": "4210f7ab-4b43-4e58-b588-989aa3312c66",
      "metadata": {
        "id": "4210f7ab-4b43-4e58-b588-989aa3312c66"
      },
      "outputs": [],
      "source": [
        "performance_discussion = \"\"\"\n",
        "XGBoost outperforms simpler models like Logistic Regression or Decision Tree\n",
        "because it is a gradient boosting ensemble method:\n",
        "\n",
        "1. XGBoost iteratively builds trees, correcting errors from previous iterations,\n",
        "   optimizing for fraud detection with high imbalance.\n",
        "2. It captures complex, non-linear relationships between features and fraud occurrence,\n",
        "   which simpler models may miss.\n",
        "3. Regularization in XGBoost helps prevent overfitting while maintaining high recall.\n",
        "\"\"\"\n",
        "print(performance_discussion)"
      ]
    },
    {
      "cell_type": "code",
      "execution_count": null,
      "id": "8cb024d1-39c0-4415-9d08-ee3a627639ca",
      "metadata": {
        "id": "8cb024d1-39c0-4415-9d08-ee3a627639ca"
      },
      "outputs": [],
      "source": [
        "# 3. Precision vs Recall Trade-Off"
      ]
    },
    {
      "cell_type": "code",
      "execution_count": null,
      "id": "ce9b72d8-b47b-4787-86ac-8781cfc5fa67",
      "metadata": {
        "id": "ce9b72d8-b47b-4787-86ac-8781cfc5fa67"
      },
      "outputs": [],
      "source": [
        "precision_recall_discussion = \"\"\"\n",
        "In fraud detection, recall is critical because we want to identify as many fraudulent transactions\n",
        "as possible (minimize False Negatives). Missing a fraud can have high financial risk.\n",
        "\n",
        "Precision measures how many predicted frauds are actually fraud.\n",
        "A low precision leads to many False Positives, which can annoy customers or waste resources.\n",
        "\n",
        "The goal is to maximize recall while keeping precision reasonably high, balancing business cost vs detection rate.\n",
        "XGBoost provides a good balance, with higher recall than simpler models, making it suitable for real-world fraud detection.\n",
        "\"\"\"\n",
        "print(precision_recall_discussion)"
      ]
    },
    {
      "cell_type": "code",
      "execution_count": null,
      "id": "72a2d4c7-546b-4ea4-82d6-b00423bb5167",
      "metadata": {
        "id": "72a2d4c7-546b-4ea4-82d6-b00423bb5167"
      },
      "outputs": [],
      "source": [
        "# 4. Visualizing Precision-Recall vs Decision Threshold for XGBoost"
      ]
    },
    {
      "cell_type": "code",
      "execution_count": null,
      "id": "6ae4a7e5-b4f4-4f7c-9175-d807ffa26b60",
      "metadata": {
        "id": "6ae4a7e5-b4f4-4f7c-9175-d807ffa26b60"
      },
      "outputs": [],
      "source": [
        "from sklearn.metrics import precision_recall_curve"
      ]
    },
    {
      "cell_type": "code",
      "execution_count": null,
      "id": "e9f6cc10-28ae-45c4-a925-b179da4a4d73",
      "metadata": {
        "id": "e9f6cc10-28ae-45c4-a925-b179da4a4d73"
      },
      "outputs": [],
      "source": [
        "y_proba = xgb_best.predict_proba(X_test)[:,1]  # Use XGBoost probabilities\n",
        "precision, recall, thresholds = precision_recall_curve(y_test, y_proba)\n",
        "\n",
        "plt.figure(figsize=(7,5))\n",
        "plt.plot(thresholds, precision[:-1], label='Precision', color='blue')\n",
        "plt.plot(thresholds, recall[:-1], label='Recall', color='red')\n",
        "\n",
        "# Vertical line at default threshold\n",
        "plt.axvline(x=0.5, color='gray', linestyle='--', label='Default Threshold 0.5')\n",
        "\n",
        "# Find nearest threshold index for 0.5\n",
        "idx = np.argmin(np.abs(thresholds - 0.5))\n",
        "plt.scatter(0.5, precision[idx], color='blue')\n",
        "plt.scatter(0.5, recall[idx], color='red')\n",
        "plt.text(0.52, precision[idx], f\"{precision[idx]:.2f}\", color='blue')\n",
        "plt.text(0.52, recall[idx], f\"{recall[idx]:.2f}\", color='red')\n",
        "\n",
        "plt.xlabel(\"Decision Threshold\")\n",
        "plt.ylabel(\"Score\")\n",
        "plt.title(f\"Precision-Recall vs Threshold ({best_model_name})\")\n",
        "plt.legend()\n",
        "plt.grid(True)\n",
        "plt.show()"
      ]
    },
    {
      "cell_type": "code",
      "execution_count": null,
      "id": "3a55c8b7-dc1e-470b-9e78-fdf2b6107474",
      "metadata": {
        "id": "3a55c8b7-dc1e-470b-9e78-fdf2b6107474"
      },
      "outputs": [],
      "source": [
        "# === Business Insights ==="
      ]
    },
    {
      "cell_type": "code",
      "execution_count": null,
      "id": "f94d6671-c72c-4eff-82e3-a838228f3898",
      "metadata": {
        "id": "f94d6671-c72c-4eff-82e3-a838228f3898"
      },
      "outputs": [],
      "source": [
        "# 1. Calculate Detection Rate & False Positive Rate"
      ]
    },
    {
      "cell_type": "code",
      "execution_count": null,
      "id": "7751d75e-8d97-40b4-af2a-0b7815577b77",
      "metadata": {
        "id": "7751d75e-8d97-40b4-af2a-0b7815577b77"
      },
      "outputs": [],
      "source": [
        "y_pred = xgb_best.predict(X_test) # Using the best model (XGBoost)\n",
        "\n",
        "# Total fraud transactions in test set\n",
        "total_frauds = sum(y_test)\n",
        "detected_frauds = sum((y_test == 1) & (y_pred == 1))\n",
        "\n",
        "# Detection rate (recall)\n",
        "detection_rate = detected_frauds / total_frauds * 100\n",
        "\n",
        "# False positives\n",
        "false_positives = sum((y_test == 0) & (y_pred == 1))\n",
        "total_non_frauds = sum(y_test == 0)\n",
        "false_positive_rate = false_positives / total_non_frauds * 100\n",
        "\n",
        "print(f\"Fraud Detection Rate (Recall): {detection_rate:.2f}%\")\n",
        "print(f\"False Positive Rate: {false_positive_rate:.2f}%\")"
      ]
    },
    {
      "cell_type": "code",
      "execution_count": null,
      "id": "95e949dc-f49a-4952-94f2-ef6094913922",
      "metadata": {
        "id": "95e949dc-f49a-4952-94f2-ef6094913922"
      },
      "outputs": [],
      "source": [
        "# 2. Estimate Real-World Impact"
      ]
    },
    {
      "cell_type": "code",
      "execution_count": null,
      "id": "3e9aad5c-6f29-4a2c-94dc-9e87805b214f",
      "metadata": {
        "id": "3e9aad5c-6f29-4a2c-94dc-9e87805b214f"
      },
      "outputs": [],
      "source": [
        "# Hypothetical average loss per fraud transaction\n",
        "avg_loss_per_fraud = 100  # in USD\n",
        "\n",
        "# Potential savings per month (if test set is representative)\n",
        "potential_savings = detected_frauds * avg_loss_per_fraud\n",
        "\n",
        "print(f\"Estimated potential savings per month: ${potential_savings:,.0f}\")"
      ]
    },
    {
      "cell_type": "code",
      "execution_count": null,
      "id": "9c335019-d639-4493-94ce-2627112864f7",
      "metadata": {
        "id": "9c335019-d639-4493-94ce-2627112864f7"
      },
      "outputs": [],
      "source": [
        "# 3. Summary Statement"
      ]
    },
    {
      "cell_type": "code",
      "execution_count": null,
      "id": "5b38895c-aa00-4c5a-bdc5-6d38c3194cb6",
      "metadata": {
        "id": "5b38895c-aa00-4c5a-bdc5-6d38c3194cb6"
      },
      "outputs": [],
      "source": [
        "business_insight = f\"\"\"\n",
        "Using XGBoost, we can detect approximately **99.27% of fraudulent transactions**\n",
        "while keeping the false positive rate **very low at 0.57%**.\n",
        "Based on an average loss of $100 per fraudulent transaction,\n",
        "this model could potentially save around **$5,655,800 per month**.\n",
        "\"\"\"\n",
        "print(business_insight)"
      ]
    },
    {
      "cell_type": "code",
      "execution_count": null,
      "id": "c7853c83-2943-44e2-b0bb-ced372eddf9e",
      "metadata": {
        "id": "c7853c83-2943-44e2-b0bb-ced372eddf9e"
      },
      "outputs": [],
      "source": []
    },
    {
      "cell_type": "code",
      "metadata": {
        "id": "4416ffca"
      },
      "source": [
        "# Reinstall numpy and scikit-learn to fix potential version conflicts\n",
        "!pip install --upgrade numpy scikit-learn"
      ],
      "id": "4416ffca",
      "execution_count": null,
      "outputs": []
    },
    {
      "cell_type": "code",
      "metadata": {
        "id": "6b242079"
      },
      "source": [
        "# Install a specific version of numpy compatible with numba\n",
        "!pip install numpy==1.26.4"
      ],
      "id": "6b242079",
      "execution_count": null,
      "outputs": []
    }
  ],
  "metadata": {
    "kernelspec": {
      "display_name": "Python (credit_env)",
      "language": "python",
      "name": "credit_env"
    },
    "language_info": {
      "codemirror_mode": {
        "name": "ipython",
        "version": 3
      },
      "file_extension": ".py",
      "mimetype": "text/x-python",
      "name": "python",
      "nbconvert_exporter": "python",
      "pygments_lexer": "ipython3",
      "version": "3.13.5"
    },
    "colab": {
      "provenance": []
    }
  },
  "nbformat": 4,
  "nbformat_minor": 5
}